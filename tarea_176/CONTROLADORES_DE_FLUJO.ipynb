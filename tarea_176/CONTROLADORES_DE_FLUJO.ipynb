{
 "cells": [
  {
   "cell_type": "markdown",
   "metadata": {},
   "source": [
    "### PRÁCTICA 176_CONTROLADORES DE FLUJO"
   ]
  },
  {
   "cell_type": "markdown",
   "metadata": {},
   "source": [
    "1.-Programa que diga el máximo de 3 números dados"
   ]
  },
  {
   "cell_type": "code",
   "execution_count": 40,
   "metadata": {},
   "outputs": [
    {
     "name": "stdout",
     "output_type": "stream",
     "text": [
      "primer número: 3245245\n",
      "segundo número: 65746746748\n",
      "tercer número: 68969876956968\n",
      "3245245.0 65746746748.0 68969876956968.0\n"
     ]
    }
   ],
   "source": [
    "a = input(\"primer número: \")\n",
    "b = input(\"segundo número: \")\n",
    "c = input(\"tercer número: \")\n",
    "a = float(a)\n",
    "b = float(b)\n",
    "c = float(c)\n",
    "print(str(a) + \" \" + str(b) + \" \" + str(c))"
   ]
  },
  {
   "cell_type": "code",
   "execution_count": 41,
   "metadata": {},
   "outputs": [
    {
     "name": "stdout",
     "output_type": "stream",
     "text": [
      "68969876956968.0 es el mayor valor\n"
     ]
    }
   ],
   "source": [
    "if a > b and a > c:\n",
    "    print(str(a) + \" es el mayor valor\")\n",
    "elif c > b:\n",
    "    print (str(c) + \" es el mayor valor\")\n",
    "else :\n",
    "    print(str(b) + \" es el mayor valor\")    "
   ]
  },
  {
   "cell_type": "markdown",
   "metadata": {},
   "source": [
    "2.- Programa que diga la longitud de una frase"
   ]
  },
  {
   "cell_type": "code",
   "execution_count": 121,
   "metadata": {},
   "outputs": [
    {
     "name": "stdout",
     "output_type": "stream",
     "text": [
      "frase a calcular el número de caracteres: Hola Mundo\n",
      "10 es la longitud de la frase\n"
     ]
    }
   ],
   "source": [
    "frase = input(\"frase a calcular el número de caracteres: \")\n",
    "print(str(len(frase)) + \" es la longitud de la frase\")"
   ]
  },
  {
   "cell_type": "markdown",
   "metadata": {},
   "source": [
    "3.- Programa que determine si un carácter previamente dado es vocal o no"
   ]
  },
  {
   "cell_type": "code",
   "execution_count": 71,
   "metadata": {},
   "outputs": [
    {
     "name": "stdout",
     "output_type": "stream",
     "text": [
      "Introduce una letra: a\n",
      "El caracter introducido es una vocal\n"
     ]
    }
   ],
   "source": [
    "Character = input(\"Introduce una letra: \")\n",
    "if Character == \"a\" or Character == \"e\" or Character == \"i\" or Character == \"o\" or Character == \"u\":\n",
    "    print(\"El caracter introducido es una vocal\")\n",
    "else:\n",
    "    print(\"el caracter introducido no es una vocal\")"
   ]
  },
  {
   "cell_type": "markdown",
   "metadata": {},
   "source": [
    "4.- Programa que sume los valores de una lista"
   ]
  },
  {
   "cell_type": "code",
   "execution_count": 82,
   "metadata": {},
   "outputs": [
    {
     "name": "stdout",
     "output_type": "stream",
     "text": [
      "la suma de los valores de la lista es: 33\n"
     ]
    }
   ],
   "source": [
    "lista = [2,4,5,6,7,9]\n",
    "a = 0\n",
    "for i in lista:\n",
    "    a += i    \n",
    "print(\"la suma de los valores de la lista es: \" + str(a))"
   ]
  },
  {
   "cell_type": "markdown",
   "metadata": {},
   "source": [
    "5.- Programa que diga si una palabra dada es palíndromo"
   ]
  },
  {
   "cell_type": "code",
   "execution_count": 120,
   "metadata": {},
   "outputs": [
    {
     "name": "stdout",
     "output_type": "stream",
     "text": [
      "Introduce palabra antetna\n",
      "['a', 'n', 't', 'e', 't', 'n', 'a']\n",
      "['a', 'n', 't', 'e', 't', 'n', 'a']\n",
      "7\n",
      "6\n",
      "La palabra es palíndromo\n"
     ]
    }
   ],
   "source": [
    "palabra = input(\"Introduce palabra \")\n",
    "palabra_list = list(palabra)\n",
    "palabra_rev = palabra_list[::-1]\n",
    "print(palabra_list)\n",
    "print(palabra_rev)\n",
    "n = 0\n",
    "print(len(palabra))\n",
    "while palabra_list[n] == palabra_rev[n]  and n < len(palabra) - 1:\n",
    "    n += 1\n",
    "print(n)\n",
    "if n+1 == len(palabra):\n",
    "    print(\"La palabra es palíndromo\")\n",
    "else:\n",
    "    print(\"La palabra no es palíndromo\")\n"
   ]
  }
 ],
 "metadata": {
  "kernelspec": {
   "display_name": "Python 3",
   "language": "python",
   "name": "python3"
  },
  "language_info": {
   "codemirror_mode": {
    "name": "ipython",
    "version": 3
   },
   "file_extension": ".py",
   "mimetype": "text/x-python",
   "name": "python",
   "nbconvert_exporter": "python",
   "pygments_lexer": "ipython3",
   "version": "3.8.8"
  },
  "vscode": {
   "interpreter": {
    "hash": "f243cda0ebd08b0ba0594f781004ddd4b1d7f0394717f0dc47b17e0eae4b9577"
   }
  }
 },
 "nbformat": 4,
 "nbformat_minor": 2
}
