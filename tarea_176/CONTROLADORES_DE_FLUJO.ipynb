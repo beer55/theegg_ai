{
 "cells": [
  {
   "cell_type": "markdown",
   "metadata": {},
   "source": [
    "### PRÁCTICA 176_CONTROLADORES DE FLUJO"
   ]
  },
  {
   "cell_type": "markdown",
   "metadata": {},
   "source": [
    "1.-Programa que diga el máximo de 3 números dados"
   ]
  },
  {
   "cell_type": "code",
   "execution_count": 2,
   "metadata": {},
   "outputs": [],
   "source": [
    "a = input(\"primer número\")\n",
    "b = input(\"segundo número\")\n",
    "c = input(\"tercer número\")\n",
    "a = float(a)\n",
    "b = float(b)\n",
    "c = float(c)\n",
    "\n"
   ]
  },
  {
   "cell_type": "code",
   "execution_count": null,
   "metadata": {},
   "outputs": [],
   "source": [
    "if a>b:\n",
    "    if a>c:\n",
    "        print(a + \"es el mayor valor\")\n",
    "    elif b > c:\n",
    "        print(b + \"es el mayor valor\")\n",
    "    else: \n",
    "        print(c + \"es el calor mayor\")"
   ]
  },
  {
   "cell_type": "code",
   "execution_count": 1,
   "metadata": {},
   "outputs": [],
   "source": [
    "a = input()"
   ]
  },
  {
   "cell_type": "code",
   "execution_count": null,
   "metadata": {},
   "outputs": [],
   "source": []
  }
 ],
 "metadata": {
  "kernelspec": {
   "display_name": "Python 3.9.7 ('base')",
   "language": "python",
   "name": "python3"
  },
  "language_info": {
   "codemirror_mode": {
    "name": "ipython",
    "version": 3
   },
   "file_extension": ".py",
   "mimetype": "text/x-python",
   "name": "python",
   "nbconvert_exporter": "python",
   "pygments_lexer": "ipython3",
   "version": "3.9.7"
  },
  "orig_nbformat": 4,
  "vscode": {
   "interpreter": {
    "hash": "294e77647fca7871cd668fd429a24fafdfc9a751a48606f641116f88ba8955fb"
   }
  }
 },
 "nbformat": 4,
 "nbformat_minor": 2
}
