{
 "cells": [
  {
   "cell_type": "markdown",
   "metadata": {},
   "source": [
    "### PRÁCTICA 176_CONTROLADORES DE FLUJO"
   ]
  },
  {
   "cell_type": "markdown",
   "metadata": {},
   "source": [
    "1.-Programa que diga el máximo de 3 números dados"
   ]
  },
  {
   "cell_type": "code",
   "execution_count": 1,
   "metadata": {},
   "outputs": [
    {
     "name": "stdout",
     "output_type": "stream",
     "text": [
      "3.0 4.0 5.0\n"
     ]
    }
   ],
   "source": [
    "a = input(\"primer número: \")\n",
    "b = input(\"segundo número: \")\n",
    "c = input(\"tercer número: \")\n",
    "a = float(a)\n",
    "b = float(b)\n",
    "c = float(c)\n",
    "print(str(a) + \" \" + str(b) + \" \" + str(c))"
   ]
  },
  {
   "cell_type": "code",
   "execution_count": 2,
   "metadata": {},
   "outputs": [
    {
     "name": "stdout",
     "output_type": "stream",
     "text": [
      "5.0 es el mayor valor\n"
     ]
    }
   ],
   "source": [
    "if a > b and a > c:\n",
    "    print(str(a) + \" es el mayor valor\")\n",
    "elif c > b:\n",
    "    print (str(c) + \" es el mayor valor\")\n",
    "else :\n",
    "    print(str(b) + \" es el mayor valor\")    "
   ]
  },
  {
   "cell_type": "markdown",
   "metadata": {},
   "source": [
    "2.- Programa que diga la longitud de una frase"
   ]
  },
  {
   "cell_type": "code",
   "execution_count": 3,
   "metadata": {},
   "outputs": [
    {
     "name": "stdout",
     "output_type": "stream",
     "text": [
      "11 es la longitud de la frase\n"
     ]
    }
   ],
   "source": [
    "frase = input(\"frase a calcular el número de caracteres: \")\n",
    "print(str(len(frase)) + \" es la longitud de la frase\")"
   ]
  },
  {
   "cell_type": "markdown",
   "metadata": {},
   "source": [
    "3.- Programa que determine si un carácter previamente dado es vocal o no"
   ]
  },
  {
   "cell_type": "code",
   "execution_count": 5,
   "metadata": {},
   "outputs": [
    {
     "name": "stdout",
     "output_type": "stream",
     "text": [
      "El caracter introducido es una vocal\n"
     ]
    }
   ],
   "source": [
    "Character = input(\"Introduce una letra: \")\n",
    "if Character == \"a\" or Character == \"e\" or Character == \"i\" or Character == \"o\" or Character == \"u\":\n",
    "    print(\"El caracter introducido es una vocal\")\n",
    "else:\n",
    "    print(\"el caracter introducido no es una vocal\")"
   ]
  },
  {
   "cell_type": "markdown",
   "metadata": {},
   "source": [
    "4.- Programa que sume los valores de una lista"
   ]
  },
  {
   "cell_type": "code",
   "execution_count": 6,
   "metadata": {},
   "outputs": [
    {
     "name": "stdout",
     "output_type": "stream",
     "text": [
      "la suma de los valores de la lista es: 33\n"
     ]
    }
   ],
   "source": [
    "lista = [2,4,5,6,7,9]\n",
    "a = 0\n",
    "for i in lista:\n",
    "    a += i    \n",
    "print(\"la suma de los valores de la lista es: \" + str(a))"
   ]
  },
  {
   "cell_type": "markdown",
   "metadata": {},
   "source": [
    "5.- Programa que diga si una palabra dada es palíndromo"
   ]
  },
  {
   "cell_type": "code",
   "execution_count": 8,
   "metadata": {},
   "outputs": [
    {
     "name": "stdout",
     "output_type": "stream",
     "text": [
      "['a', 'm', 'a']\n",
      "['a', 'm', 'a']\n",
      "3\n",
      "2\n",
      "La palabra es palíndromo\n"
     ]
    }
   ],
   "source": [
    "palabra = input(\"Introduce palabra \")\n",
    "palabra_list = list(palabra)\n",
    "palabra_rev = palabra_list[::-1]\n",
    "print(palabra_list)\n",
    "print(palabra_rev)\n",
    "n = 0\n",
    "print(len(palabra))\n",
    "while palabra_list[n] == palabra_rev[n]  and n < len(palabra) - 1:\n",
    "    n += 1\n",
    "print(n)\n",
    "if n+1 == len(palabra):\n",
    "    print(\"La palabra es palíndromo\")\n",
    "else:\n",
    "    print(\"La palabra no es palíndromo\")\n"
   ]
  },
  {
   "cell_type": "markdown",
   "metadata": {},
   "source": [
    "6.- Programa que compare dos listas y encuentre si hay algún valor coincidente"
   ]
  },
  {
   "cell_type": "code",
   "execution_count": 38,
   "metadata": {},
   "outputs": [
    {
     "name": "stdout",
     "output_type": "stream",
     "text": [
      "El valor 3 esta repetido\n",
      "4\n",
      "4\n",
      " No hay ningún elemento repetido\n"
     ]
    }
   ],
   "source": [
    "list_01 = [\"a\",\"b\",3,\"f\"]\n",
    "list_02 = [\"g\",\"h\",\"j\",3]\n",
    "count_01 = 0\n",
    "count_02 = 0\n",
    "\n",
    "while count_01 < len(list_01):\n",
    "    count_02 = 0\n",
    "    while count_02 < len(list_02):\n",
    "        if list_01[count_01] == list_02[count_02]:\n",
    "            print(\"El valor \" + str(list_01[count_01]) + \" esta repetido\")\n",
    "        count_02 += 1\n",
    "    count_01+= 1\n",
    "print(count_01)\n",
    "print(count_02)\n",
    "print (\" No hay ningún elemento repetido\")"
   ]
  }
 ],
 "metadata": {
  "kernelspec": {
   "display_name": "Python 3.9.7 ('base')",
   "language": "python",
   "name": "python3"
  },
  "language_info": {
   "codemirror_mode": {
    "name": "ipython",
    "version": 3
   },
   "file_extension": ".py",
   "mimetype": "text/x-python",
   "name": "python",
   "nbconvert_exporter": "python",
   "pygments_lexer": "ipython3",
   "version": "3.9.7"
  },
  "vscode": {
   "interpreter": {
    "hash": "294e77647fca7871cd668fd429a24fafdfc9a751a48606f641116f88ba8955fb"
   }
  }
 },
 "nbformat": 4,
 "nbformat_minor": 2
}
