{
 "cells": [
  {
   "cell_type": "markdown",
   "metadata": {},
   "source": [
    "<h2>10 ejercicios prácticos para la tarea de <em>\"Las funciones en Python\"</em> 😊😊😊</h2>"
   ]
  },
  {
   "cell_type": "markdown",
   "metadata": {},
   "source": [
    "------------------------------------------------------------------------------------------------------<br>\n",
    "<h3 style=\"background:#87a1c2; color:#ffffff; padding:20px; border-radius:5px;\">1.- ✍ Función que calcule el máximo de 2 números</h3><br>\n",
    "------------------------------------------------------------------------------------------------------<br>\n"
   ]
  },
  {
   "cell_type": "markdown",
   "metadata": {},
   "source": [
    "------------------------------------------------------------------------------------------------------<br>\n",
    "<h3 style=\"background:#87a1c2; color:#ffffff; padding:20px; border-radius:5px;\">2.- ✍ Función que calcule el máximo de 3 números</h3><br>\n",
    "------------------------------------------------------------------------------------------------------<br>\n"
   ]
  },
  {
   "cell_type": "markdown",
   "metadata": {},
   "source": [
    "------------------------------------------------------------------------------------------------------<br>\n",
    "<h3 style=\"background:#87a1c2; color:#ffffff; padding:20px; border-radius:5px;\">3.- ✍ Función que calcule la longitud de una frase</h3><br>\n",
    "------------------------------------------------------------------------------------------------------<br>"
   ]
  },
  {
   "cell_type": "markdown",
   "metadata": {},
   "source": [
    "------------------------------------------------------------------------------------------------------<br>\n",
    "<h3 style=\"background:#87a1c2; color:#ffffff; padding:20px; border-radius:5px;\">5.- ✍ Función que determine si el carácter introducido es vocal o no</h3><br>\n",
    "------------------------------------------------------------------------------------------------------<br>\n"
   ]
  },
  {
   "cell_type": "markdown",
   "metadata": {},
   "source": [
    "------------------------------------------------------------------------------------------------------<br>\n",
    "<h3 style=\"background:#87a1c2; color:#ffffff; padding:20px; border-radius:5px;\">5.- ✍ Función que sume y multiplique los valores de una lista</h3><br>\n",
    "------------------------------------------------------------------------------------------------------<br>\n"
   ]
  },
  {
   "cell_type": "markdown",
   "metadata": {},
   "source": [
    "------------------------------------------------------------------------------------------------------<br>\n",
    "<h3 style=\"background:#87a1c2; color:#ffffff; padding:20px; border-radius:5px;\">6.- ✍ Función que invierta el orden de una frase</h3><br>\n",
    "------------------------------------------------------------------------------------------------------<br>\n"
   ]
  },
  {
   "cell_type": "markdown",
   "metadata": {},
   "source": [
    "------------------------------------------------------------------------------------------------------<br>\n",
    "<h3 style=\"background:#87a1c2; color:#ffffff; padding:20px; border-radius:5px;\">7.- ✍ Función que encuentre palindromos</h3><br>\n",
    "------------------------------------------------------------------------------------------------------<br>\n"
   ]
  },
  {
   "cell_type": "markdown",
   "metadata": {},
   "source": [
    "------------------------------------------------------------------------------------------------------<br>\n",
    "<h3 style=\"background:#87a1c2; color:#ffffff; padding:20px; border-radius:5px;\">8.- ✍ Comparar 2 listas y ver si se repite algún valor</h3><br>\n",
    "------------------------------------------------------------------------------------------------------<br>\n"
   ]
  },
  {
   "cell_type": "markdown",
   "metadata": {},
   "source": [
    "------------------------------------------------------------------------------------------------------<br>\n",
    "<h3 style=\"background:#87a1c2; color:#ffffff; padding:20px; border-radius:5px;\">9.- ✍ Función que escriba una letra n veces</h3><br>\n",
    "------------------------------------------------------------------------------------------------------<br>\n"
   ]
  },
  {
   "cell_type": "markdown",
   "metadata": {},
   "source": [
    "------------------------------------------------------------------------------------------------------<br>\n",
    "<h3 style=\"background:#87a1c2; color:#ffffff; padding:20px; border-radius:5px;\">10.- ✍ Función que dibuje el histograma de los números que se envíen</h3><br>\n",
    "------------------------------------------------------------------------------------------------------<br>\n"
   ]
  },
  {
   "cell_type": "markdown",
   "metadata": {},
   "source": [
    "<h3>👏👏👏 ¡¡¡Ustedes son lo máximo!!!</h3>"
   ]
  }
 ],
 "metadata": {
  "kernelspec": {
   "display_name": "Python 3",
   "language": "python",
   "name": "python3"
  },
  "language_info": {
   "codemirror_mode": {
    "name": "ipython",
    "version": 3
   },
   "file_extension": ".py",
   "mimetype": "text/x-python",
   "name": "python",
   "nbconvert_exporter": "python",
   "pygments_lexer": "ipython3",
   "version": "3.8.5"
  }
 },
 "nbformat": 4,
 "nbformat_minor": 2
}
