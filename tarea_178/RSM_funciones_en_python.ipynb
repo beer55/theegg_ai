{
 "cells": [
  {
   "cell_type": "markdown",
   "metadata": {},
   "source": [
    "<h2>10 ejercicios prácticos para la tarea de <em>\"Las funciones en Python\"</em> 😊😊😊</h2>"
   ]
  },
  {
   "cell_type": "markdown",
   "metadata": {},
   "source": [
    "------------------------------------------------------------------------------------------------------<br>\n",
    "<h3 style=\"background:#87a1c2; color:#ffffff; padding:20px; border-radius:5px;\">1.- ✍ Función que calcule el máximo de 2 números</h3><br>\n",
    "------------------------------------------------------------------------------------------------------<br>\n"
   ]
  },
  {
   "cell_type": "code",
   "execution_count": 9,
   "metadata": {},
   "outputs": [],
   "source": [
    "def maximize(n1,n2):\n",
    "    if n1>n2:\n",
    "        print(str(n1) + \" es el mayor\")\n",
    "    else:\n",
    "        print(str(n2) + \" es el mayor\")\n"
   ]
  },
  {
   "cell_type": "code",
   "execution_count": 10,
   "metadata": {},
   "outputs": [
    {
     "name": "stdout",
     "output_type": "stream",
     "text": [
      "6 es el mayor\n"
     ]
    }
   ],
   "source": [
    "maximize(6,5)"
   ]
  },
  {
   "cell_type": "markdown",
   "metadata": {},
   "source": [
    "------------------------------------------------------------------------------------------------------<br>\n",
    "<h3 style=\"background:#87a1c2; color:#ffffff; padding:20px; border-radius:5px;\">2.- ✍ Función que calcule el máximo de 3 números</h3><br>\n",
    "------------------------------------------------------------------------------------------------------<br>\n"
   ]
  },
  {
   "cell_type": "code",
   "execution_count": 2,
   "metadata": {},
   "outputs": [],
   "source": [
    "def max3(n1,n2,n3):\n",
    "    if n1 > n2:\n",
    "        if n1 > n3:\n",
    "            print(str(n1) + \" es el mayor\")\n",
    "        else: \n",
    "            print(str(n3) + \" es el mayor\")\n",
    "    elif n2 > n3:\n",
    "        print(str(n2) + \" es el mayor\")\n",
    "    else: \n",
    "        print(str(n3) + \" es el mayor\")"
   ]
  },
  {
   "cell_type": "code",
   "execution_count": 5,
   "metadata": {},
   "outputs": [
    {
     "name": "stdout",
     "output_type": "stream",
     "text": [
      "12 es el mayor\n"
     ]
    }
   ],
   "source": [
    "max3(10,9,12)"
   ]
  },
  {
   "cell_type": "markdown",
   "metadata": {},
   "source": [
    "------------------------------------------------------------------------------------------------------<br>\n",
    "<h3 style=\"background:#87a1c2; color:#ffffff; padding:20px; border-radius:5px;\">3.- ✍ Función que calcule la longitud de una frase</h3><br>\n",
    "------------------------------------------------------------------------------------------------------<br>"
   ]
  },
  {
   "cell_type": "code",
   "execution_count": 6,
   "metadata": {},
   "outputs": [],
   "source": [
    "def longi(frase):\n",
    "    count = 0\n",
    "    for i in frase:\n",
    "        count +=1\n",
    "    print(count)"
   ]
  },
  {
   "cell_type": "code",
   "execution_count": 8,
   "metadata": {},
   "outputs": [
    {
     "name": "stdout",
     "output_type": "stream",
     "text": [
      "11\n"
     ]
    }
   ],
   "source": [
    "longi(\"hola mundo!\")"
   ]
  },
  {
   "cell_type": "markdown",
   "metadata": {},
   "source": [
    "------------------------------------------------------------------------------------------------------<br>\n",
    "<h3 style=\"background:#87a1c2; color:#ffffff; padding:20px; border-radius:5px;\">5.- ✍ Función que determine si el carácter introducido es vocal o no</h3><br>\n",
    "------------------------------------------------------------------------------------------------------<br>\n"
   ]
  },
  {
   "cell_type": "code",
   "execution_count": 11,
   "metadata": {},
   "outputs": [],
   "source": [
    "def vocal(letra):\n",
    "    if letra == \"a\" or letra == \"e\" or letra == \"i\" or letra == \"o\" or letra == \"u\":\n",
    "        print(\"es vocal\")\n",
    "    else: \n",
    "        print(\"no es vocal\")"
   ]
  },
  {
   "cell_type": "code",
   "execution_count": 13,
   "metadata": {},
   "outputs": [
    {
     "name": "stdout",
     "output_type": "stream",
     "text": [
      "no es vocal\n"
     ]
    }
   ],
   "source": [
    "vocal(\"v\")"
   ]
  },
  {
   "cell_type": "markdown",
   "metadata": {},
   "source": [
    "------------------------------------------------------------------------------------------------------<br>\n",
    "<h3 style=\"background:#87a1c2; color:#ffffff; padding:20px; border-radius:5px;\">5.- ✍ Función que sume y multiplique los valores de una lista</h3><br>\n",
    "------------------------------------------------------------------------------------------------------<br>\n"
   ]
  },
  {
   "cell_type": "code",
   "execution_count": 20,
   "metadata": {},
   "outputs": [],
   "source": [
    "def suma(lista):\n",
    "    a = 0\n",
    "    for i in lista:\n",
    "        a = a + i\n",
    "    return (a)\n"
   ]
  },
  {
   "cell_type": "code",
   "execution_count": 21,
   "metadata": {},
   "outputs": [
    {
     "name": "stdout",
     "output_type": "stream",
     "text": [
      "13\n"
     ]
    }
   ],
   "source": [
    "producto([1,3,4,5])"
   ]
  },
  {
   "cell_type": "markdown",
   "metadata": {},
   "source": [
    "------------------------------------------------------------------------------------------------------<br>\n",
    "<h3 style=\"background:#87a1c2; color:#ffffff; padding:20px; border-radius:5px;\">6.- ✍ Función que invierta el orden de una frase</h3><br>\n",
    "------------------------------------------------------------------------------------------------------<br>\n"
   ]
  },
  {
   "cell_type": "markdown",
   "metadata": {},
   "source": [
    "------------------------------------------------------------------------------------------------------<br>\n",
    "<h3 style=\"background:#87a1c2; color:#ffffff; padding:20px; border-radius:5px;\">7.- ✍ Función que encuentre palindromos</h3><br>\n",
    "------------------------------------------------------------------------------------------------------<br>\n"
   ]
  },
  {
   "cell_type": "markdown",
   "metadata": {},
   "source": [
    "------------------------------------------------------------------------------------------------------<br>\n",
    "<h3 style=\"background:#87a1c2; color:#ffffff; padding:20px; border-radius:5px;\">8.- ✍ Comparar 2 listas y ver si se repite algún valor</h3><br>\n",
    "------------------------------------------------------------------------------------------------------<br>\n"
   ]
  },
  {
   "cell_type": "markdown",
   "metadata": {},
   "source": [
    "------------------------------------------------------------------------------------------------------<br>\n",
    "<h3 style=\"background:#87a1c2; color:#ffffff; padding:20px; border-radius:5px;\">9.- ✍ Función que escriba una letra n veces</h3><br>\n",
    "------------------------------------------------------------------------------------------------------<br>\n"
   ]
  },
  {
   "cell_type": "markdown",
   "metadata": {},
   "source": [
    "------------------------------------------------------------------------------------------------------<br>\n",
    "<h3 style=\"background:#87a1c2; color:#ffffff; padding:20px; border-radius:5px;\">10.- ✍ Función que dibuje el histograma de los números que se envíen</h3><br>\n",
    "------------------------------------------------------------------------------------------------------<br>\n"
   ]
  },
  {
   "cell_type": "markdown",
   "metadata": {},
   "source": [
    "<h3>👏👏👏 ¡¡¡Ustedes son lo máximo!!!</h3>"
   ]
  }
 ],
 "metadata": {
  "kernelspec": {
   "display_name": "Python 3.9.7 ('base')",
   "language": "python",
   "name": "python3"
  },
  "language_info": {
   "codemirror_mode": {
    "name": "ipython",
    "version": 3
   },
   "file_extension": ".py",
   "mimetype": "text/x-python",
   "name": "python",
   "nbconvert_exporter": "python",
   "pygments_lexer": "ipython3",
   "version": "3.9.7"
  },
  "vscode": {
   "interpreter": {
    "hash": "294e77647fca7871cd668fd429a24fafdfc9a751a48606f641116f88ba8955fb"
   }
  }
 },
 "nbformat": 4,
 "nbformat_minor": 2
}
